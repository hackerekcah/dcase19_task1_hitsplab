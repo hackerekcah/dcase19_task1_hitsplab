{
 "cells": [
  {
   "cell_type": "code",
   "execution_count": 3,
   "metadata": {},
   "outputs": [
    {
     "name": "stdout",
     "output_type": "stream",
     "text": [
      "The autoreload extension is already loaded. To reload it, use:\n",
      "  %reload_ext autoreload\n"
     ]
    }
   ],
   "source": [
    "import sys\n",
    "sys.path.append(\"..\")\n",
    "%load_ext autoreload\n",
    "%autoreload"
   ]
  },
  {
   "cell_type": "code",
   "execution_count": 4,
   "metadata": {},
   "outputs": [],
   "source": [
    "from utils.wrapper import ArgWrapper"
   ]
  },
  {
   "cell_type": "code",
   "execution_count": 5,
   "metadata": {},
   "outputs": [],
   "source": [
    "args = ArgWrapper({\n",
    "    'acc_log_file': 'submissions/acc/submission2.acc',\n",
    "    'batch_size': 64,\n",
    "    'ckpt_file': 'ckpt/normal_mixup_val_bc/Run01,ModifiedXception,Epoch_33,acc_0.711634.tar',\n",
    "    'ckpt_file1': 'ckpt/medfilter_mixup_val_bc/Run01,ModifiedXception,Epoch_72,acc_0.684244.tar',\n",
    "    'ckpt_file2': 'ckpt/meansub_mixup_val_bc/Run01,ModifiedXception,Epoch_62,acc_0.684946.tar',\n",
    "    'decay': 1.0,\n",
    "    'device': '4',\n",
    "    'drop_rate': 0.3,\n",
    "    'l2': 0,\n",
    "    'model': 'multi',\n",
    "    'model1_is_divide_variance': True,\n",
    "    'model2_is_divide_variance': False,\n",
    "    'model3_is_divide_variance': False,\n",
    "    'nb_class': 10\n",
    "})"
   ]
  },
  {
   "cell_type": "code",
   "execution_count": 6,
   "metadata": {},
   "outputs": [
    {
     "name": "stdout",
     "output_type": "stream",
     "text": [
      "{'acc_log_file': 'submissions/acc/submission2.acc',\n",
      " 'batch_size': 64,\n",
      " 'ckpt_file': 'ckpt/normal_mixup_val_bc/Run01,ModifiedXception,Epoch_33,acc_0.711634.tar',\n",
      " 'ckpt_file1': 'ckpt/medfilter_mixup_val_bc/Run01,ModifiedXception,Epoch_72,acc_0.684244.tar',\n",
      " 'ckpt_file2': 'ckpt/meansub_mixup_val_bc/Run01,ModifiedXception,Epoch_62,acc_0.684946.tar',\n",
      " 'decay': 1.0,\n",
      " 'device': '4',\n",
      " 'drop_rate': 0.3,\n",
      " 'l2': 0,\n",
      " 'model': 'multi',\n",
      " 'model1_is_divide_variance': True,\n",
      " 'model2_is_divide_variance': False,\n",
      " 'model3_is_divide_variance': False,\n",
      " 'nb_class': 10}\n"
     ]
    },
    {
     "name": "stderr",
     "output_type": "stream",
     "text": [
      "16560it [00:00, 516348.67it/s]\n"
     ]
    },
    {
     "name": "stdout",
     "output_type": "stream",
     "text": [
      "[LOGGING]: Loading test a of shape:  (4185, 128, 430)\n"
     ]
    },
    {
     "name": "stderr",
     "output_type": "stream",
     "text": [
      "16560it [00:00, 235823.86it/s]"
     ]
    },
    {
     "name": "stdout",
     "output_type": "stream",
     "text": [
      "[LOGGING] Normalize using device abc\n"
     ]
    },
    {
     "name": "stderr",
     "output_type": "stream",
     "text": [
      "\n"
     ]
    },
    {
     "name": "stdout",
     "output_type": "stream",
     "text": [
      "[LOGGING]: Loading test b of shape:  (540, 128, 430)\n"
     ]
    },
    {
     "name": "stderr",
     "output_type": "stream",
     "text": [
      "16560it [00:00, 472533.33it/s]"
     ]
    },
    {
     "name": "stdout",
     "output_type": "stream",
     "text": [
      "[LOGGING] Normalize using device abc\n",
      "[LOGGING]: Loading test c of shape:  (540, 128, 430)\n"
     ]
    },
    {
     "name": "stderr",
     "output_type": "stream",
     "text": [
      "\n",
      "16560it [00:00, 446242.69it/s]"
     ]
    },
    {
     "name": "stdout",
     "output_type": "stream",
     "text": [
      "[LOGGING] Normalize using device abc\n"
     ]
    },
    {
     "name": "stderr",
     "output_type": "stream",
     "text": [
      "\n"
     ]
    },
    {
     "name": "stdout",
     "output_type": "stream",
     "text": [
      "[LOGGING]: Loading test a of shape:  (4185, 128, 430)\n"
     ]
    },
    {
     "name": "stderr",
     "output_type": "stream",
     "text": [
      "16560it [00:00, 510290.45it/s]"
     ]
    },
    {
     "name": "stdout",
     "output_type": "stream",
     "text": [
      "[LOGGING] Mean subtracted using device abc\n",
      "[LOGGING]: Loading test b of shape:  (540, 128, 430)\n"
     ]
    },
    {
     "name": "stderr",
     "output_type": "stream",
     "text": [
      "\n",
      "16560it [00:00, 337633.73it/s]"
     ]
    },
    {
     "name": "stdout",
     "output_type": "stream",
     "text": [
      "[LOGGING] Mean subtracted using device abc\n",
      "[LOGGING]: Loading test c of shape:  (540, 128, 430)\n"
     ]
    },
    {
     "name": "stderr",
     "output_type": "stream",
     "text": [
      "\n",
      "16560it [00:00, 422001.65it/s]"
     ]
    },
    {
     "name": "stdout",
     "output_type": "stream",
     "text": [
      "[LOGGING] Mean subtracted using device abc\n"
     ]
    },
    {
     "name": "stderr",
     "output_type": "stream",
     "text": [
      "\n"
     ]
    },
    {
     "name": "stdout",
     "output_type": "stream",
     "text": [
      "[LOGGING]: Loading test a of shape:  (4185, 128, 430)\n"
     ]
    },
    {
     "name": "stderr",
     "output_type": "stream",
     "text": [
      "16560it [00:00, 526106.82it/s]"
     ]
    },
    {
     "name": "stdout",
     "output_type": "stream",
     "text": [
      "[LOGGING] Mean subtracted using device abc\n",
      "[LOGGING]: Loading test b of shape:  (540, 128, 430)\n"
     ]
    },
    {
     "name": "stderr",
     "output_type": "stream",
     "text": [
      "\n",
      "16560it [00:00, 529697.73it/s]"
     ]
    },
    {
     "name": "stdout",
     "output_type": "stream",
     "text": [
      "[LOGGING] Mean subtracted using device abc\n",
      "[LOGGING]: Loading test c of shape:  (540, 128, 430)\n"
     ]
    },
    {
     "name": "stderr",
     "output_type": "stream",
     "text": [
      "\n"
     ]
    },
    {
     "name": "stdout",
     "output_type": "stream",
     "text": [
      "[LOGGING] Mean subtracted using device abc\n",
      "device_A:\n",
      "device_A Validation set average accuracy: 0.794\n",
      "device_A Validation set class-wise accuracy:\n",
      "airport               : 0.717\n",
      "bus                   : 0.867\n",
      "metro                 : 0.760\n",
      "metro_station         : 0.807\n",
      "park                  : 0.917\n",
      "public_square         : 0.636\n",
      "shopping_mall         : 0.771\n",
      "street_pedestrian     : 0.737\n",
      "street_traffic        : 0.928\n",
      "tram                  : 0.805\n",
      "device_B:\n",
      "device_B Validation set average accuracy: 0.691\n",
      "device_B Validation set class-wise accuracy:\n",
      "airport               : 0.444\n",
      "bus                   : 0.833\n",
      "metro                 : 0.778\n",
      "metro_station         : 0.778\n",
      "park                  : 0.870\n",
      "public_square         : 0.296\n",
      "shopping_mall         : 0.796\n",
      "street_pedestrian     : 0.426\n",
      "street_traffic        : 0.926\n",
      "tram                  : 0.759\n",
      "device_C:\n",
      "device_C Validation set average accuracy: 0.719\n",
      "device_C Validation set class-wise accuracy:\n",
      "airport               : 0.611\n",
      "bus                   : 0.833\n",
      "metro                 : 0.722\n",
      "metro_station         : 0.741\n",
      "park                  : 0.889\n",
      "public_square         : 0.296\n",
      "shopping_mall         : 0.741\n",
      "street_pedestrian     : 0.648\n",
      "street_traffic        : 0.944\n",
      "tram                  : 0.759\n",
      "Average (B, C):\n",
      "Average (B, C) Validation set average accuracy: 0.705\n",
      "Average (B, C) Validation set class-wise accuracy:\n",
      "airport               : 0.528\n",
      "bus                   : 0.833\n",
      "metro                 : 0.750\n",
      "metro_station         : 0.759\n",
      "park                  : 0.880\n",
      "public_square         : 0.296\n",
      "shopping_mall         : 0.769\n",
      "street_pedestrian     : 0.537\n",
      "street_traffic        : 0.935\n",
      "tram                  : 0.759\n"
     ]
    }
   ],
   "source": [
    "from class_wise_accuracy import print_accuracy\n",
    "print_accuracy(args)"
   ]
  },
  {
   "cell_type": "code",
   "execution_count": null,
   "metadata": {},
   "outputs": [],
   "source": []
  }
 ],
 "metadata": {
  "kernelspec": {
   "display_name": "python3.6(asc_mt)",
   "language": "python",
   "name": "asc_mt"
  },
  "language_info": {
   "codemirror_mode": {
    "name": "ipython",
    "version": 3
   },
   "file_extension": ".py",
   "mimetype": "text/x-python",
   "name": "python",
   "nbconvert_exporter": "python",
   "pygments_lexer": "ipython3",
   "version": "3.6.6"
  }
 },
 "nbformat": 4,
 "nbformat_minor": 2
}
