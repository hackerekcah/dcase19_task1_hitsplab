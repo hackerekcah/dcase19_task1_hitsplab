{
 "cells": [
  {
   "cell_type": "code",
   "execution_count": 1,
   "metadata": {},
   "outputs": [],
   "source": [
    "import sys\n",
    "sys.path.append(\"..\")\n",
    "%load_ext autoreload\n",
    "%autoreload"
   ]
  },
  {
   "cell_type": "code",
   "execution_count": 2,
   "metadata": {},
   "outputs": [],
   "source": [
    "from utils.wrapper import ArgWrapper"
   ]
  },
  {
   "cell_type": "code",
   "execution_count": 3,
   "metadata": {},
   "outputs": [],
   "source": [
    "args = ArgWrapper({\n",
    "    'acc_log_file': 'submissions/acc/submission1.acc',\n",
    "    'batch_size': 64,\n",
    "    'ckpt_file': 'ckpt/normal_mixup/Run01,ModifiedXception,Epoch_68,acc_0.748528.tar',\n",
    "    'ckpt_file1': 'ckpt/medfilter_mixup/Run01,ModifiedXception,Epoch_34,acc_0.710351.tar',\n",
    "    'ckpt_file2': 'ckpt/meansub_mixup/Run01,ModifiedXception,Epoch_42,acc_0.703894.tar',\n",
    "    'decay': 1.0,\n",
    "    'device': '1',\n",
    "    'drop_rate': 0.3,\n",
    "    'l2': 0,\n",
    "    'model': 'multi',\n",
    "    'model1_is_divide_variance': True,\n",
    "    'model2_is_divide_variance': False,\n",
    "    'model3_is_divide_variance': False,\n",
    "    'nb_class': 10\n",
    "})"
   ]
  },
  {
   "cell_type": "code",
   "execution_count": 4,
   "metadata": {},
   "outputs": [
    {
     "name": "stdout",
     "output_type": "stream",
     "text": [
      "{'acc_log_file': 'submissions/acc/submission1.acc',\n",
      " 'batch_size': 64,\n",
      " 'ckpt_file': 'ckpt/normal_mixup/Run01,ModifiedXception,Epoch_68,acc_0.748528.tar',\n",
      " 'ckpt_file1': 'ckpt/medfilter_mixup/Run01,ModifiedXception,Epoch_34,acc_0.710351.tar',\n",
      " 'ckpt_file2': 'ckpt/meansub_mixup/Run01,ModifiedXception,Epoch_42,acc_0.703894.tar',\n",
      " 'decay': 1.0,\n",
      " 'device': '1',\n",
      " 'drop_rate': 0.3,\n",
      " 'l2': 0,\n",
      " 'model': 'multi',\n",
      " 'model1_is_divide_variance': True,\n",
      " 'model2_is_divide_variance': False,\n",
      " 'model3_is_divide_variance': False,\n",
      " 'nb_class': 10}\n"
     ]
    },
    {
     "name": "stderr",
     "output_type": "stream",
     "text": [
      "16560it [00:00, 515195.85it/s]\n"
     ]
    },
    {
     "name": "stdout",
     "output_type": "stream",
     "text": [
      "[LOGGING]: Loading test a of shape:  (4185, 128, 430)\n"
     ]
    },
    {
     "name": "stderr",
     "output_type": "stream",
     "text": [
      "16560it [00:00, 523706.89it/s]"
     ]
    },
    {
     "name": "stdout",
     "output_type": "stream",
     "text": [
      "[LOGGING] Normalize using device abc\n",
      "[LOGGING]: Loading test b of shape:  (540, 128, 430)\n"
     ]
    },
    {
     "name": "stderr",
     "output_type": "stream",
     "text": [
      "\n",
      "16560it [00:00, 525712.60it/s]"
     ]
    },
    {
     "name": "stdout",
     "output_type": "stream",
     "text": [
      "[LOGGING] Normalize using device abc\n",
      "[LOGGING]: Loading test c of shape:  (540, 128, 430)\n"
     ]
    },
    {
     "name": "stderr",
     "output_type": "stream",
     "text": [
      "\n",
      "16560it [00:00, 512349.42it/s]"
     ]
    },
    {
     "name": "stdout",
     "output_type": "stream",
     "text": [
      "[LOGGING] Normalize using device abc\n"
     ]
    },
    {
     "name": "stderr",
     "output_type": "stream",
     "text": [
      "\n"
     ]
    },
    {
     "name": "stdout",
     "output_type": "stream",
     "text": [
      "[LOGGING]: Loading test a of shape:  (4185, 128, 430)\n"
     ]
    },
    {
     "name": "stderr",
     "output_type": "stream",
     "text": [
      "16560it [00:00, 522430.63it/s]"
     ]
    },
    {
     "name": "stdout",
     "output_type": "stream",
     "text": [
      "[LOGGING] Mean subtracted using device abc\n",
      "[LOGGING]: Loading test b of shape:  (540, 128, 430)\n"
     ]
    },
    {
     "name": "stderr",
     "output_type": "stream",
     "text": [
      "\n",
      "16560it [00:00, 281899.06it/s]"
     ]
    },
    {
     "name": "stdout",
     "output_type": "stream",
     "text": [
      "[LOGGING] Mean subtracted using device abc\n",
      "[LOGGING]: Loading test c of shape:  (540, 128, 430)\n"
     ]
    },
    {
     "name": "stderr",
     "output_type": "stream",
     "text": [
      "\n",
      "16560it [00:00, 455744.07it/s]"
     ]
    },
    {
     "name": "stdout",
     "output_type": "stream",
     "text": [
      "[LOGGING] Mean subtracted using device abc\n"
     ]
    },
    {
     "name": "stderr",
     "output_type": "stream",
     "text": [
      "\n"
     ]
    },
    {
     "name": "stdout",
     "output_type": "stream",
     "text": [
      "[LOGGING]: Loading test a of shape:  (4185, 128, 430)\n"
     ]
    },
    {
     "name": "stderr",
     "output_type": "stream",
     "text": [
      "16560it [00:00, 269222.05it/s]"
     ]
    },
    {
     "name": "stdout",
     "output_type": "stream",
     "text": [
      "[LOGGING] Mean subtracted using device abc\n"
     ]
    },
    {
     "name": "stderr",
     "output_type": "stream",
     "text": [
      "\n",
      "16560it [00:00, 519092.37it/s]"
     ]
    },
    {
     "name": "stdout",
     "output_type": "stream",
     "text": [
      "[LOGGING]: Loading test b of shape:  (540, 128, 430)\n",
      "[LOGGING] Mean subtracted using device abc\n"
     ]
    },
    {
     "name": "stderr",
     "output_type": "stream",
     "text": [
      "\n"
     ]
    },
    {
     "name": "stdout",
     "output_type": "stream",
     "text": [
      "[LOGGING]: Loading test c of shape:  (540, 128, 430)\n",
      "[LOGGING] Mean subtracted using device abc\n",
      "device_A:\n",
      "device_A Validation set average accuracy: 0.799\n",
      "device_A Validation set class-wise accuracy:\n",
      "airport               : 0.803\n",
      "bus                   : 0.887\n",
      "metro                 : 0.783\n",
      "metro_station         : 0.811\n",
      "park                  : 0.917\n",
      "public_square         : 0.636\n",
      "shopping_mall         : 0.707\n",
      "street_pedestrian     : 0.737\n",
      "street_traffic        : 0.930\n",
      "tram                  : 0.787\n",
      "device_B:\n",
      "device_B Validation set average accuracy: 0.696\n",
      "device_B Validation set class-wise accuracy:\n",
      "airport               : 0.481\n",
      "bus                   : 0.815\n",
      "metro                 : 0.778\n",
      "metro_station         : 0.741\n",
      "park                  : 0.907\n",
      "public_square         : 0.278\n",
      "shopping_mall         : 0.815\n",
      "street_pedestrian     : 0.556\n",
      "street_traffic        : 0.907\n",
      "tram                  : 0.685\n",
      "device_C:\n",
      "device_C Validation set average accuracy: 0.717\n",
      "device_C Validation set class-wise accuracy:\n",
      "airport               : 0.685\n",
      "bus                   : 0.870\n",
      "metro                 : 0.741\n",
      "metro_station         : 0.704\n",
      "park                  : 0.889\n",
      "public_square         : 0.222\n",
      "shopping_mall         : 0.815\n",
      "street_pedestrian     : 0.593\n",
      "street_traffic        : 0.944\n",
      "tram                  : 0.704\n",
      "Average (B, C):\n",
      "Average (B, C) Validation set average accuracy: 0.706\n",
      "Average (B, C) Validation set class-wise accuracy:\n",
      "airport               : 0.583\n",
      "bus                   : 0.843\n",
      "metro                 : 0.759\n",
      "metro_station         : 0.722\n",
      "park                  : 0.898\n",
      "public_square         : 0.250\n",
      "shopping_mall         : 0.815\n",
      "street_pedestrian     : 0.574\n",
      "street_traffic        : 0.926\n",
      "tram                  : 0.694\n"
     ]
    }
   ],
   "source": [
    "from class_wise_accuracy import print_accuracy\n",
    "print_accuracy(args)"
   ]
  },
  {
   "cell_type": "code",
   "execution_count": null,
   "metadata": {},
   "outputs": [],
   "source": []
  }
 ],
 "metadata": {
  "kernelspec": {
   "display_name": "python3.6(asc_mt)",
   "language": "python",
   "name": "asc_mt"
  },
  "language_info": {
   "codemirror_mode": {
    "name": "ipython",
    "version": 3
   },
   "file_extension": ".py",
   "mimetype": "text/x-python",
   "name": "python",
   "nbconvert_exporter": "python",
   "pygments_lexer": "ipython3",
   "version": "3.6.6"
  }
 },
 "nbformat": 4,
 "nbformat_minor": 2
}
