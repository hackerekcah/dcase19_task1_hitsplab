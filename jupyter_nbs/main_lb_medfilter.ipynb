{
 "cells": [
  {
   "cell_type": "code",
   "execution_count": 1,
   "metadata": {},
   "outputs": [],
   "source": [
    "import sys\n",
    "sys.path.append(\"..\")\n",
    "%load_ext autoreload\n",
    "%autoreload"
   ]
  },
  {
   "cell_type": "code",
   "execution_count": 2,
   "metadata": {},
   "outputs": [],
   "source": [
    "from utils.wrapper import ArgWrapper"
   ]
  },
  {
   "cell_type": "code",
   "execution_count": 3,
   "metadata": {},
   "outputs": [],
   "source": [
    "from main_lb_medfilter import run\n",
    "args= ArgWrapper(\n",
    "    exp='medfilter_xcep_mixup', \n",
    "    net='ModifiedXception',\n",
    "    batch_size=32,\n",
    "    ckpt_prefix='Run01',\n",
    "    device='4',\n",
    "    nb_class=10,\n",
    "    l2=0,\n",
    "    init_lr=0.001,\n",
    "    lr_factor=0.5,\n",
    "    lr_patience=3,\n",
    "    optimizer='adam',\n",
    "    plot=True,\n",
    "    run_epochs=80,\n",
    "    seed=0,\n",
    "    decay=1,\n",
    "    drop_rate=0.3,\n",
    "    mix_alpha=0.3,\n",
    "    continue_run=False,\n",
    "    is_divide_variance=True\n",
    ")"
   ]
  },
  {
   "cell_type": "code",
   "execution_count": null,
   "metadata": {},
   "outputs": [
    {
     "data": {
      "image/png": "[encoded data removed]",
      "text/plain": [
       "<Figure size 432x288 with 2 Axes>"
      ]
     },
     "metadata": {
      "needs_background": "light"
     },
     "output_type": "display_data"
    },
    {
     "data": {
      "image/png": "[encoded data removed]",
      "text/plain": [
       "<Figure size 432x288 with 2 Axes>"
      ]
     },
     "metadata": {
      "needs_background": "light"
     },
     "output_type": "display_data"
    },
    {
     "name": "stdout",
     "output_type": "stream",
     "text": [
      "[CheckPoint:]saved model to /data/songhongwei/proj/dcase19_task1_hitsplab/ckpt/medfilter_xcep_mixup/Run01,ModifiedXception,Epoch_1,acc_0.424881.tar\n"
     ]
    }
   ],
   "source": [
    "run(args)"
   ]
  },
  {
   "cell_type": "code",
   "execution_count": null,
   "metadata": {},
   "outputs": [],
   "source": []
  }
 ],
 "metadata": {
  "kernelspec": {
   "display_name": "python3.6(asc_mt)",
   "language": "python",
   "name": "asc_mt"
  },
  "language_info": {
   "codemirror_mode": {
    "name": "ipython",
    "version": 3
   },
   "file_extension": ".py",
   "mimetype": "text/x-python",
   "name": "python",
   "nbconvert_exporter": "python",
   "pygments_lexer": "ipython3",
   "version": "3.6.6"
  }
 },
 "nbformat": 4,
 "nbformat_minor": 2
}
